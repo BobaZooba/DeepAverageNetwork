{
 "cells": [
  {
   "cell_type": "code",
   "execution_count": 1,
   "id": "7f9c64fb",
   "metadata": {},
   "outputs": [],
   "source": [
    "from typing import Dict, List\n",
    "\n",
    "import matplotlib.pyplot as plt\n",
    "import numpy as np\n",
    "import pandas as pd\n",
    "import seaborn as sns\n",
    "import torch\n",
    "\n",
    "from datasets import load_dataset\n",
    "from nltk.tokenize import ToktokTokenizer\n",
    "from sklearn.metrics import f1_score\n",
    "from torch import nn\n",
    "from torch.utils.data import DataLoader\n",
    "from tqdm import tqdm"
   ]
  },
  {
   "cell_type": "markdown",
   "id": "102d7074",
   "metadata": {},
   "source": [
    "# Deep Average Network для определения сентимента "
   ]
  },
  {
   "cell_type": "markdown",
   "id": "46d972fe",
   "metadata": {},
   "source": [
    "В этой домашке мы будет классифицировать твиты на 3 тональности.  \n",
    "Вы будете использовать предобученные эмбеддинги слов, так что для начала обязательно нужно посмотреть [туториал по их использованию](https://github.com/BobaZooba/DeepNLP/blob/master/Tutorials/Word%20vectors%20%26%20Data%20Loading.ipynb).\n",
    "\n",
    "Наши классы:  \n",
    "\n",
    "Индекс | Sentiment  \n",
    "-- | --  \n",
    "0 | negative  \n",
    "1 | neutral  \n",
    "2 | positive  "
   ]
  },
  {
   "cell_type": "markdown",
   "id": "55010212",
   "metadata": {},
   "source": [
    "Вам предстоит реализовать такую модель:\n",
    "![Архитектура модели DAN](https://www.researchgate.net/profile/Shervin-Minaee/publication/340523298/figure/fig1/AS:878252264550411@1586403065555/The-architecture-of-the-Deep-Average-Network-DAN-10.ppm)\n",
    "\n",
    "Что она из себя представляет:\n",
    "- Мы подаем в нее индексы слов\n",
    "- Переводим индексы слов в эмбеддинги\n",
    "- Усредняем эмбеддинги\n",
    "- Пропускаем усредненные эмбеддинги через `Multilayer Perceptron`\n",
    "\n",
    "В этой домашке вам предстоит:\n",
    "- Перевести тексты в матрицы с индексами токенов\n",
    "- Реализовать модель\n",
    "- Обучить ее\n",
    "- Понять хорошо ли вы это сделали\n",
    "\n",
    "Это очень важная модель, потому что она очень простая и показывает достаточно высокие метрики. В дальнейшем на работе советую использовать такую модель как бейзлайн. И в качестве эмбеддингов слов взять эмбеддинги от берта/роберты/тд."
   ]
  },
  {
   "cell_type": "markdown",
   "id": "65faf753",
   "metadata": {},
   "source": [
    "## 🤗 Datasets\n",
    "В этом туториале мы будем использовать подготовленные данные из библиотеки [datasets](https://github.com/huggingface/datasets). Мы вряд ли еще будем пользоваться этой библиотекой, так как нам будет важно самим подготавливать данные. Во-первых, для простоты, во-вторых, здесь есть достаточно неплохие практики. [Здесь](https://huggingface.co/datasets) вы сможете найти достаточно большое количество различных датасетов. Возможно, когда-нибудь они вам пригодятся."
   ]
  },
  {
   "cell_type": "markdown",
   "id": "5927f02a",
   "metadata": {},
   "source": [
    "## Загрузите эмбеддинги слов\n",
    "Реализуйте функцию по загрузке эмбеддингов из файла. Она должна отдавать словарь слов и `np.array`\n",
    "Формат словаря:\n",
    "```python\n",
    "{\n",
    "    'aabra': 0,\n",
    "    ...,\n",
    "    'mom': 6546,\n",
    "    ...\n",
    "    'xyz': 100355\n",
    "}\n",
    "```\n",
    "Формат матрицы эмбеддингов:\n",
    "```python\n",
    "array([[0.44442278, 0.28644582, 0.04357426, ..., 0.9425766 , 0.02024289,\n",
    "        0.88456545],\n",
    "       [0.77599317, 0.35188237, 0.54801261, ..., 0.91134102, 0.88599103,\n",
    "        0.88068835],\n",
    "       [0.68071886, 0.29352313, 0.95952505, ..., 0.19127958, 0.97723054,\n",
    "        0.36294011],\n",
    "       ...,\n",
    "       [0.03589378, 0.85429694, 0.33437761, ..., 0.39784873, 0.80368014,\n",
    "        0.76368042],\n",
    "       [0.01498725, 0.78155695, 0.80372969, ..., 0.82051826, 0.42314861,\n",
    "        0.18655465],\n",
    "       [0.69263802, 0.82090775, 0.27150426, ..., 0.86582747, 0.40896573,\n",
    "        0.33423976]])\n",
    "```\n",
    "\n",
    "Количество строк в матрице эмбеддингов должно совпадать с размером словаря, то есть для каждого токена должен быть свой эмбеддинг. По параметру `num_tokens` должно брать не более указано в этом параметре количество токенов в словарь и матрицу эмбеддингов."
   ]
  },
  {
   "cell_type": "code",
   "execution_count": 2,
   "id": "e15a9f7c",
   "metadata": {},
   "outputs": [],
   "source": [
    "def load_embeddings(path, num_tokens=100_000):\n",
    "    \"\"\"\n",
    "    \n",
    "    \"\"\"\n",
    "\n",
    "    ...\n",
    "    \n",
    "    # Необязательно задавать здесь\n",
    "    # Это рекомендация к типу\n",
    "    token2index: Dict[str, int] = ...\n",
    "    embeddings_matrix: np.array = ...\n",
    "    \n",
    "    assert(len(token2index) == embeddings_matrix.shape[0])\n",
    "    \n",
    "    return token2index, embeddings_matrix"
   ]
  },
  {
   "cell_type": "markdown",
   "id": "c46b2b68",
   "metadata": {},
   "source": [
    "## Загружаем данные из библиотеки\n",
    "Мы сразу получим `torch.utils.data.Dataset`, который сможем передать в `torch.utils.data.DataLoader`"
   ]
  },
  {
   "cell_type": "code",
   "execution_count": 3,
   "id": "e54fdaa8",
   "metadata": {},
   "outputs": [
    {
     "name": "stderr",
     "output_type": "stream",
     "text": [
      "Reusing dataset tweet_eval (/Users/a19415907/.cache/huggingface/datasets/tweet_eval/sentiment/1.1.0/12aee5282b8784f3e95459466db4cdf45c6bf49719c25cdb0743d71ed0410343)\n",
      "Reusing dataset tweet_eval (/Users/a19415907/.cache/huggingface/datasets/tweet_eval/sentiment/1.1.0/12aee5282b8784f3e95459466db4cdf45c6bf49719c25cdb0743d71ed0410343)\n",
      "Reusing dataset tweet_eval (/Users/a19415907/.cache/huggingface/datasets/tweet_eval/sentiment/1.1.0/12aee5282b8784f3e95459466db4cdf45c6bf49719c25cdb0743d71ed0410343)\n"
     ]
    }
   ],
   "source": [
    "dataset_path = \"tweet_eval\"\n",
    "dataset_name = \"sentiment\"\n",
    "\n",
    "train_dataset = load_dataset(path=dataset_path, name=dataset_name, split=\"train\")\n",
    "valid_dataset = load_dataset(path=dataset_path, name=dataset_name, split=\"validation\")\n",
    "test_dataset = load_dataset(path=dataset_path, name=dataset_name, split=\"test\")"
   ]
  },
  {
   "cell_type": "markdown",
   "id": "ad4a0650",
   "metadata": {},
   "source": [
    "## `torch.utils.data.DataLoader`"
   ]
  },
  {
   "cell_type": "code",
   "execution_count": 4,
   "id": "dc742027",
   "metadata": {},
   "outputs": [],
   "source": [
    "train_loader = DataLoader(train_dataset, batch_size=2, shuffle=True)\n",
    "valid_loader = DataLoader(valid_dataset, batch_size=2, shuffle=False)\n",
    "test_loader = DataLoader(test_dataset, batch_size=2, shuffle=False)"
   ]
  },
  {
   "cell_type": "markdown",
   "id": "e9012ae5",
   "metadata": {},
   "source": [
    "## Посмотрим что отдает нам `Loader`\n",
    "Это батч формата:\n",
    "```python\n",
    "batch = {\n",
    "    \"text\": [\n",
    "        \"text1\",\n",
    "        \"text2\",\n",
    "        ...,\n",
    "        \"textn\"\n",
    "    ],\n",
    "    \"label\": tensor([\n",
    "        1,\n",
    "        1,\n",
    "        ...,\n",
    "        0\n",
    "    ])\n",
    "}\n",
    "```\n",
    "То есть у нас есть словарь с двумя ключами `text` и `label`, где хранится n примеров. То есть для 5-го примера в батче текст будет храниться в `batch[\"text\"][5]`, а индекс класса будет храниться в `batch[\"label\"][5]`."
   ]
  },
  {
   "cell_type": "code",
   "execution_count": 5,
   "id": "49bf6b50",
   "metadata": {},
   "outputs": [
    {
     "data": {
      "text/plain": [
       "{'text': ['I\\\\u2019d want Mannone\\\\u002cJenks/sagna\\\\u002cper\\\\u002ckos\\\\u002cTV5\\\\u002ccoq\\\\u002carteta\\\\u002csanti\\\\u002ctheo/gnabry\\\\u002cgiroud\\\\u002cpoldi to start tomorrow',\n",
       "  '\"Crawfish tomorrow, nothing like having it in the comfort of your own home! :)\"'],\n",
       " 'label': tensor([1, 2])}"
      ]
     },
     "execution_count": 5,
     "metadata": {},
     "output_type": "execute_result"
    }
   ],
   "source": [
    "for batch in train_loader:\n",
    "    break\n",
    "\n",
    "batch"
   ]
  },
  {
   "cell_type": "markdown",
   "id": "b0b9f0e6",
   "metadata": {},
   "source": [
    "## Collate\n",
    "Сейчас перед нами стоит проблема: мы получаем тексты в виде строк, а нам нужны тензоры (матрицы) с индексами токенов, к тому же нам нужно западить последовательности токенов, чтобы все сложить в торчовую матрицу. Мы можем сделать это двумя способами:\n",
    "- Достать из `train/valid/test_dataset` данные и написать свой `Dataset`, где внутри будет токенизировать текст, токены будут переводиться в индексы и затем последовательность будет падиться до нужной длины\n",
    "- Сделать функцию, которая бы дополнительно обрабатывали наши батчи. Она вставляется в `DataLoader(collate_fn=<ВАША_ФУНКЦИЯ>)`"
   ]
  },
  {
   "cell_type": "markdown",
   "id": "d03b0f2e",
   "metadata": {},
   "source": [
    "## Если вы хотите сделать свой `Dataset`\n",
    "То вы можете достать данные таким образом."
   ]
  },
  {
   "cell_type": "code",
   "execution_count": 6,
   "id": "26771f88",
   "metadata": {},
   "outputs": [
    {
     "data": {
      "text/plain": [
       "(45615, 45615)"
      ]
     },
     "execution_count": 6,
     "metadata": {},
     "output_type": "execute_result"
    }
   ],
   "source": [
    "len(train_dataset[\"text\"]), len(train_dataset[\"label\"])"
   ]
  },
  {
   "cell_type": "code",
   "execution_count": 7,
   "id": "f25200be",
   "metadata": {},
   "outputs": [
    {
     "data": {
      "text/plain": [
       "['\"QT @user In the original draft of the 7th book, Remus Lupin survived the Battle of Hogwarts. #HappyBirthdayRemusLupin\"',\n",
       " '\"Ben Smith / Smith (concussion) remains out of the lineup Thursday, Curtis #NHL #SJ\"']"
      ]
     },
     "execution_count": 7,
     "metadata": {},
     "output_type": "execute_result"
    }
   ],
   "source": [
    "train_dataset[\"text\"][:2]"
   ]
  },
  {
   "cell_type": "code",
   "execution_count": 8,
   "id": "d4c952b6",
   "metadata": {},
   "outputs": [
    {
     "data": {
      "text/plain": [
       "[2, 1]"
      ]
     },
     "execution_count": 8,
     "metadata": {},
     "output_type": "execute_result"
    }
   ],
   "source": [
    "train_dataset[\"label\"][:2]"
   ]
  },
  {
   "cell_type": "markdown",
   "id": "68184652",
   "metadata": {},
   "source": [
    "## Если вы хотите сделать `collate_fn`"
   ]
  },
  {
   "cell_type": "markdown",
   "id": "706dab4d",
   "metadata": {},
   "source": [
    "### Давайте посмотрим что вообще происходит внутри этого метода\n",
    "Для этого сделаем функцию `empty_collate`, которая принимает на вход батч и отдает его, ничего с ним не делая"
   ]
  },
  {
   "cell_type": "code",
   "execution_count": 9,
   "id": "3b7ce86b",
   "metadata": {},
   "outputs": [],
   "source": [
    "def empty_collate(batch):\n",
    "    return batch"
   ]
  },
  {
   "cell_type": "code",
   "execution_count": 10,
   "id": "26f0fe92",
   "metadata": {},
   "outputs": [],
   "source": [
    "train_loader = DataLoader(train_dataset, batch_size=2, shuffle=True, collate_fn=empty_collate)\n",
    "valid_loader = DataLoader(valid_dataset, batch_size=2, shuffle=False, collate_fn=empty_collate)\n",
    "test_loader = DataLoader(test_dataset, batch_size=2, shuffle=False, collate_fn=empty_collate)"
   ]
  },
  {
   "cell_type": "code",
   "execution_count": 11,
   "id": "942cf78e",
   "metadata": {},
   "outputs": [
    {
     "data": {
      "text/plain": [
       "[{'text': 'to watch Big Brother is the only reason why i wake up on a sunday',\n",
       "  'label': 2},\n",
       " {'text': '\"Justin Bieber\\'s smile is now certified gold,as he made this golden announcement on his Snapchat on December 16.',\n",
       "  'label': 2}]"
      ]
     },
     "execution_count": 11,
     "metadata": {},
     "output_type": "execute_result"
    }
   ],
   "source": [
    "for batch in train_loader:\n",
    "    break\n",
    "\n",
    "batch"
   ]
  },
  {
   "cell_type": "markdown",
   "id": "91ca5081",
   "metadata": {},
   "source": [
    "## Формат батча\n",
    "```python\n",
    "batch = [\n",
    "    {\n",
    "        \"text\": \"text1\",\n",
    "        \"label\": 0\n",
    "    }, \n",
    "    {\n",
    "        \"text\": \"text2\",\n",
    "        \"label\": 1\n",
    "    },\n",
    "    ...,\n",
    "    {\n",
    "        \"text\": \"textn\",\n",
    "        \"label\": 1\n",
    "    }\n",
    "]\n",
    "```\n",
    "То есть теперь у нас есть список, где каждый элемент — это словарь со значениями `text` и `label`.  \n",
    "\n",
    "Вы можете сделать функцию или класс с методом `collate`. Этот способ решения домашки предодчтительней, так как использовать `collate` очень хорошая практика.\n",
    "\n",
    "Что я предлагаю:\n",
    "- Сделайте класс `Tokenizer`"
   ]
  },
  {
   "cell_type": "code",
   "execution_count": 12,
   "id": "3b9ddcca",
   "metadata": {},
   "outputs": [],
   "source": [
    "class Tokenizer:\n",
    "    \n",
    "    def __init__(self, base_tokenizer, token2index, pad_token, unk_token, max_length):\n",
    "        \n",
    "        self._base_tokenizer = base_tokenizer  # например ToktokTokenizer()\n",
    "        \n",
    "        self.token2index = token2index  # словарь из load_embeddings()\n",
    "        \n",
    "        self.pad_token = pad_token\n",
    "        self.pad_index = self.token2index[self.pad_token]\n",
    "        \n",
    "        self.unk_token = unk_token\n",
    "        self.unk_index = self.token2index[self.unk_token]\n",
    "        \n",
    "        self.max_length = max_length\n",
    "\n",
    "    def tokenize(self, text):\n",
    "        \"\"\"\n",
    "        В этом методе нужно разделить строку текста на токены\n",
    "        \"\"\"\n",
    "        ...\n",
    "    \n",
    "    def indexing(self, tokenized_text):\n",
    "        \"\"\"\n",
    "        В этом методе нужно перевести список токенов в список с индексами этих токенов\n",
    "        \"\"\"\n",
    "        ...\n",
    "        \n",
    "    def padding(self, tokens_indices):\n",
    "        \"\"\"\n",
    "        В этом методе нужно сделать длину tokens_indices равной self.max_length\n",
    "        Опционально убрать повторяющиеся unk'и\n",
    "        \"\"\"\n",
    "        ...\n",
    "    \n",
    "    def __call__(self, text):\n",
    "        \"\"\"\n",
    "        В этом методе нужно перевести строку с текстом в вектор с индексами слов нужно размера (self.max_length)\n",
    "        \"\"\"\n",
    "        ...\n",
    "        \n",
    "    def collate(self, batch):\n",
    "        \n",
    "        tokenized_texts = list()\n",
    "        labels = list()\n",
    "        \n",
    "        for sample in batch:\n",
    "            ...\n",
    "            \n",
    "        tokenized_texts = ...  # перевод в torch.Tensor\n",
    "        labels = ...  # перевод в torch.Tensor\n",
    "        \n",
    "        return tokenized_texts, labels"
   ]
  },
  {
   "cell_type": "markdown",
   "id": "11ab7e6d",
   "metadata": {},
   "source": [
    "## Перед реализацией выбранного метода\n",
    "Советую, чтобы в итоге `Loader` отдавал кортеж с двумя тензорами:\n",
    "- `torch.Tensor` с индексами токенов, размерность `(batch_size, sequence_length)`\n",
    "- `torch.Tensor` с индексами таргетов, размерность `(batch_size)`\n",
    "\n",
    "То есть, чтобы было так:\n",
    "```python\n",
    "for x, y in train_loader:\n",
    "    ...\n",
    "\n",
    ">> x\n",
    ">> tensor([[   37,  3889,   470,  ...,     0,     0,     0],\n",
    "           [ 1509,   581,   144,  ...,     0,     0,     0],\n",
    "           [ 1804,   893,  2457,  ...,     0,     0,     0],\n",
    "           ...,\n",
    "           [  170, 39526,  2102,  ...,     0,     0,     0],\n",
    "           [ 1217,   172, 28440,  ...,     0,     0,     0],\n",
    "           [   37,    56,   603,  ...,     0,     0,     0]])\n",
    "\n",
    ">> y\n",
    ">> tensor([1, 2, 2, 2, 1, 1, 1, 1, 2, 1, 1, 2, 2, 1, 1, 1, 1, 1, 0, 1, 2, 0, 0, 1,\n",
    "           0, 2, 1, 1, 0, 1, 2, 0, 2, 1, 2, 1, 1, 1, 2, 1, 1, 0, 1, 1, 1, 0, 1, 0,\n",
    "           1, 0, 2, 2, 2, 1, 1, 2, 2, 2, 1, 2, 0, 1, 0, 2, 1, 2, 2, 1, 0, 0, 2, 2,\n",
    "           2, 1, 2, 0, 2, 2, 0, 2, 0, 1, 1, 1, 2, 2, 2, 1, 1, 1, 1, 2, 1, 0, 2, 2,\n",
    "           2, 1, 1, 1, 1, 1, 2, 2, 2, 2, 1, 1, 2, 1, 1, 0, 1, 1, 1, 2, 2, 1, 2, 1,\n",
    "           2, 1, 1, 2, 2, 1, 1, 2])\n",
    "\n",
    ">> x.shape\n",
    ">> torch.Size([128, 64])\n",
    "\n",
    ">> y.shape\n",
    ">> torch.Size([128])\n",
    "```\n",
    "При условии, что батч сайз равен 128, а максимальная длина последовательности равна 64.\n",
    "\n",
    "## Помните"
   ]
  },
  {
   "cell_type": "markdown",
   "id": "018cf71c",
   "metadata": {},
   "source": [
    "## <Место для реализации>"
   ]
  },
  {
   "cell_type": "code",
   "execution_count": 13,
   "id": "40268f8c",
   "metadata": {},
   "outputs": [],
   "source": [
    "train_loader = ...\n",
    "valid_loader = ...\n",
    "test_loader = ..."
   ]
  },
  {
   "cell_type": "code",
   "execution_count": 14,
   "id": "d293b759",
   "metadata": {},
   "outputs": [],
   "source": [
    "for x, y in train_loader:\n",
    "    break"
   ]
  },
  {
   "cell_type": "code",
   "execution_count": 15,
   "id": "87752ad7",
   "metadata": {},
   "outputs": [],
   "source": [
    "assert(isinstance(x, torch.Tensor))\n",
    "assert(len(x.size()) == 2)\n",
    "\n",
    "assert(isinstance(y, torch.Tensor))\n",
    "assert(len(y.size()) == 1)"
   ]
  },
  {
   "cell_type": "markdown",
   "id": "dbc96104",
   "metadata": {},
   "source": [
    "# Реализация DAN\n",
    "\n",
    "На вход модели будут подавать индексы слов\n",
    "\n",
    "Шаги:\n",
    "- Переводим индексы слов в эмбеддинги\n",
    "- Усредняем эмбеддинги\n",
    "- Пропускаем усредненные эмбеддинги через `Multilayer Perceptron`\n",
    "    - Нужно реализовать самому\n",
    "\n",
    "### Что нужно сделать в домашке с точки зрения архитектуры сети:\n",
    "- Реализовать skip-connection (residual connection) в линейном слое\n",
    "- Написать свой слой, в котором будут (порядок слоев ниже напутан, так что сами подумайте в каком порядке стоит расположить эти слои) :\n",
    "  - `Dropout`\n",
    "  - `BatchNorm` / `LayerNorm`\n",
    "  - `Residual`, если вы не меняете размерность векторов\n",
    "  - Функция активации\n",
    "  - Линейный слой\n",
    "\n",
    "### Опциональные задания:\n",
    "- Использовать токенизатор и слой эмбеддингов от предобученного трансформера из библиотеки `transformers`\n",
    "- Сделать усреднение эмбеддингов с учетом падов\n",
    "  - Мы используем пады, чтобы сделать единую длину последовательностей в батче\n",
    "    - То есть у нас максимальная длина в батче, например, 16 токенов, поэтому ко всем последовательностям, у которых длина ниже мы добавляем `16 - len(sequence)` падов\n",
    "  - То есть получается так, что усредненный вектор предложения зависит от максимальный длины в батче, потому что\n",
    "    - Среднее вектора `[1, 2, 3]` будет `2`. Среднее вектора `[1, 2, 3, 0, 0]` будет `1.2`\n",
    "    - Получается, что усредняя с падами мы получаем \"неправильный\" вектор\n",
    "  - То есть наши предсказания будут зависеть от того сколько падов у нас есть в предложении\n",
    "  - Когда мы будем использовать нашу сетку в реальном процессе, скорее всего, мы будем подавать в нее по одному примеру, где падов не будет\n",
    "    - То есть получается мы будем использовать нашу модель не в той же среде, как и обучали\n",
    "      - Потому что наши входы меняются, мы не используем пады, результат усреднения другой\n",
    "    - Это называется `distribution shift`, то есть когда мы учимся на одних данных, а используем на других\n",
    "      - Это не всегда плохо, потому что иногда только так мы и можем учиться, например, когда мало данных нужного домена\n",
    "      - Это плохо тогда, когда мы вносим это \"случайно\", например, как с неправильным усреднением, то есть это своебразный баг\n"
   ]
  },
  {
   "cell_type": "markdown",
   "id": "123324f0",
   "metadata": {},
   "source": [
    "## До обучения\n",
    "- Выберите метрику(ки) качества и расскажите почему она(они)\n",
    "    - Обычно есть основная метрика, по которой принимаем решения какие веса брать и дополнительные, которые нам помогут делать выводы, например, о том все ли хорошо с нашими данными, хорошо ли модель справляется с дисбалансом классов и тд\n",
    "- Эту домашку можно сделать и на `CPU`, но на `GPU` будет сильно быстрее\n",
    "    - Во всех остальных домашках мы будем учить модели на `GPU`\n",
    "    - Рано или поздно вам придется посмотреть этот [туториал](https://www.youtube.com/watch?v=pgk1zGv5lU4)\n",
    "    - Вы можете обучаться на `colab`, это бесплатно\n",
    "\n",
    "## До эпохи\n",
    "- Сделайте списки/словари/другое, чтобы сохранять нужные данные для расчета метрик(и) по всей эпохе для трейна и валидации\n",
    "\n",
    "## Во время эпохи\n",
    "- Используйте [`tqdm`](https://github.com/tqdm/tqdm) как прогресс бар, чтобы понимать как проходит ваше обучение\n",
    "- Логируйте лосс\n",
    "- Логируйте метрику(ки) по батчу\n",
    "- Сохраняйте то, что вам нужно, чтобы посчитать метрик(и) на всю эпоху для трейна и валидации\n",
    "\n",
    "## После эпохи\n",
    "- Посчитайте метрик(и) на всю эпоху для трейна и валидации\n",
    "\n",
    "## После обучения\n",
    "- Провалидируйтесь на тестовом наборе и посмотрите метрики\n",
    "- Постройте [`classification_report`](https://scikit-learn.org/stable/modules/generated/sklearn.metrics.classification_report.html)\n",
    "- Постройте графики:\n",
    "    - [Confusion Matrix](https://scikit-learn.org/stable/modules/model_evaluation.html#confusion-matrix)\n",
    "    - [Опционально] Распределение вероятностей мажоритарного класса (то есть для какого-то примера мы выбираем такой класс и вероятность этого выбора такая-то) на трейне/тесте/валидации\n",
    "        - Если класс был выбран верно и если была ошибка\n",
    "- Подумайте что еще вам будет полезно для того, чтобы ответить на такие вопросы: \n",
    "    - Что в моделе можно улучшить?\n",
    "    - Все ли хорошо с моими данными?\n",
    "    - Все ли хорошо с валидацией?\n",
    "    - Не переобучился ли я?\n",
    "    - Достаточно ли я посмотрел на данные?\n",
    "    - Нужно ли мне улучшить предобработку данных?\n",
    "    - Нужно ли поменять токенизацию или эмбеддинги?\n",
    "    - Нет ли у меня багов в реализации?\n",
    "    - Какие типичные ошибки у моей модели?\n",
    "    - Как я могу их исправить?"
   ]
  },
  {
   "cell_type": "markdown",
   "id": "ff1f451c",
   "metadata": {},
   "source": [
    "# Я выбрал метрику <МЕТРИКА>\n",
    "\n",
    "> Это моя метрика. Таких метрик много, но эта моя. Моя метрика — мой лучший друг. Это — моя жизнь. Я должен научиться владеть метрикой так же, как владею своей жизнью. Без меня моя метрика бесполезна. Без моей метрики бесполезен я. Я должен метко обучать модель на оптимизацию моей метрики. Я должен обучать точнее, чем конкурент, который пытается меня обойти. Я должен обучить модель лучше до того, как он обучит свою. И я это сделаю. Клянусь перед тим лидом. Я и моя метрика — мы защитники моей галеры. Мы не боимся конкурентов. Мы спасители ROI нашего отдела. Пусть будет так. Пока не останется больше конкурентов и не наступит эпоха AGI. Трансформер.\n",
    "\n",
    "Почему я выбрал эту метрику:  \n",
    "<РАССКАЗ_ПРО_МЕТРИКУ>"
   ]
  },
  {
   "cell_type": "code",
   "execution_count": 16,
   "id": "da42260c",
   "metadata": {},
   "outputs": [],
   "source": [
    "class DeepAverageNetwork(nn.Module):\n",
    "    ..."
   ]
  },
  {
   "cell_type": "code",
   "execution_count": 17,
   "id": "7966f715",
   "metadata": {},
   "outputs": [],
   "source": [
    "model = DeepAverageNetwork(...)"
   ]
  },
  {
   "cell_type": "code",
   "execution_count": 18,
   "id": "4b4a2161",
   "metadata": {},
   "outputs": [],
   "source": [
    "model"
   ]
  },
  {
   "cell_type": "markdown",
   "id": "5efad1d1",
   "metadata": {},
   "source": [
    "## Задайте функцию потерь и оптимизатор"
   ]
  },
  {
   "cell_type": "code",
   "execution_count": 19,
   "id": "34c552fa",
   "metadata": {},
   "outputs": [],
   "source": []
  },
  {
   "cell_type": "markdown",
   "id": "628847fe",
   "metadata": {},
   "source": [
    "## Сделайте цикл обучения"
   ]
  },
  {
   "cell_type": "code",
   "execution_count": 20,
   "id": "b634b9ce",
   "metadata": {},
   "outputs": [
    {
     "data": {
      "text/plain": [
       "Ellipsis"
      ]
     },
     "execution_count": 20,
     "metadata": {},
     "output_type": "execute_result"
    }
   ],
   "source": [
    "NUM_EPOCHS = 2  # Задайте количество эпох\n",
    "\n",
    "...\n",
    "\n",
    "for n_epoch in range(NUM_EPOCHS):\n",
    "    \n",
    "    ...\n",
    "    \n",
    "    # train\n",
    "    ...\n",
    "\n",
    "    # validation\n",
    "    ...\n",
    "    \n",
    "# test\n",
    "..."
   ]
  },
  {
   "cell_type": "markdown",
   "id": "87583e79",
   "metadata": {},
   "source": [
    "# Выводы\n",
    "Напишите небольшой отчет о проделанной работе. Что удалось, в чем не уверены, что делать дальше."
   ]
  },
  {
   "cell_type": "code",
   "execution_count": null,
   "id": "c3ad7f80",
   "metadata": {},
   "outputs": [],
   "source": []
  }
 ],
 "metadata": {
  "kernelspec": {
   "display_name": "Python 3 (ipykernel)",
   "language": "python",
   "name": "python3"
  },
  "language_info": {
   "codemirror_mode": {
    "name": "ipython",
    "version": 3
   },
   "file_extension": ".py",
   "mimetype": "text/x-python",
   "name": "python",
   "nbconvert_exporter": "python",
   "pygments_lexer": "ipython3",
   "version": "3.10.6"
  }
 },
 "nbformat": 4,
 "nbformat_minor": 5
}
